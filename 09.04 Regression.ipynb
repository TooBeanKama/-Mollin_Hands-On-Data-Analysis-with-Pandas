{
 "cells": [
  {
   "cell_type": "markdown",
   "id": "1beb00b3",
   "metadata": {},
   "source": [
    "## Chapter 9 Getting Started with Machine Learning in Python\n",
    "### Regression\n",
    "+ Linear regression\n",
    "\t+ Predicting the length of a year on a planet\n",
    "\t+ Interpreting the linear regression equation\n",
    "\t+ Making predictions\n",
    "+ Evaluating regression results\n",
    "\t+ Analyzing residuals\n",
    "\t+ Metrics\n",
    "    \n",
    "Регрессия - это техника моделирования силы и величины взаимосвязи между независимыми переменными (X, часто называют **регрессоры**) и зависимой переменной (y) \n",
    "\n"
   ]
  },
  {
   "cell_type": "markdown",
   "id": "4f50c9df",
   "metadata": {},
   "source": [
    "#### Линейная регрессия\n",
    "+ модуль `linear_model` библиотеки Scikit-learn\n",
    "\n",
    "В простой линейной регрессии, мы **fit** (подгоняем, приближаем) наши данные линией по следующей формуле:\n",
    "$$\n",
    "y = \\beta_0 + \\beta_1x + \\varepsilon\n",
    "$$\n",
    "где\n",
    "+ $\\varepsilon$ - ошибка, error term\n",
    "+ $\\beta$ - коэффициенты\n",
    "\n",
    "\n",
    "Коэффициенты мы получаем при минимизации функции потерь - разница между observed values ($y$) и predicted values ($\\hat y$)\n",
    "\n",
    "Наша модель дает нам оценки этих коэффициентов, поэтому мы их записываем как $\\hat {\\beta}_i$\n",
    "\n",
    "Множественная линейная регрессия:\n",
    "$$\n",
    "y = \\beta_0 + \\beta_1x_1 + \\beta_2x_2 +\\dots+  \\beta_nx_n  \\varepsilon\n",
    "$$\n",
    "\n",
    "Scikit-learn использует:\n",
    "+ OLS (МНК) метод для получения оценок коэффициентов\n",
    "\n",
    "Коэффициенты можно получить:\n",
    "+ аналитически (closed-form solution)\n",
    "+ с помощью оптимизационных методов, например **gradient descent** (использует отрицательный градиент, где градиент направление наибольшего роста функции, вычисленный с помощью частных производных)\n",
    "\n",
    "\n",
    "**Предположения линейной регрессии о данных**\n",
    "+ ошибки - нормально распределены и гомоскедантичны\n",
    "+ отсутствует мультиколлинеарность (высокая корреляция между регрессорами)\n"
   ]
  },
  {
   "cell_type": "markdown",
   "id": "623b0db8",
   "metadata": {},
   "source": [
    "#### Прогнозирование продложительности года на разных планетах\n",
    "+ используем датасет planets, чтобы прогнозировать продолжительность года.\n",
    "\n",
    "##### Разбиение выборки, обучение модели"
   ]
  },
  {
   "cell_type": "code",
   "execution_count": 65,
   "id": "c84405d2",
   "metadata": {},
   "outputs": [
    {
     "data": {
      "text/html": [
       "<div>\n",
       "<style scoped>\n",
       "    .dataframe tbody tr th:only-of-type {\n",
       "        vertical-align: middle;\n",
       "    }\n",
       "\n",
       "    .dataframe tbody tr th {\n",
       "        vertical-align: top;\n",
       "    }\n",
       "\n",
       "    .dataframe thead th {\n",
       "        text-align: right;\n",
       "    }\n",
       "</style>\n",
       "<table border=\"1\" class=\"dataframe\">\n",
       "  <thead>\n",
       "    <tr style=\"text-align: right;\">\n",
       "      <th></th>\n",
       "      <th>mass</th>\n",
       "      <th>description</th>\n",
       "      <th>periastrontime</th>\n",
       "      <th>semimajoraxis</th>\n",
       "      <th>discoveryyear</th>\n",
       "      <th>list</th>\n",
       "      <th>eccentricity</th>\n",
       "      <th>period</th>\n",
       "      <th>discoverymethod</th>\n",
       "      <th>lastupdate</th>\n",
       "      <th>periastron</th>\n",
       "      <th>name</th>\n",
       "    </tr>\n",
       "  </thead>\n",
       "  <tbody>\n",
       "    <tr>\n",
       "      <th>0</th>\n",
       "      <td>19.400</td>\n",
       "      <td>11 Com b is a brown dwarf-mass companion to th...</td>\n",
       "      <td>2452899.60</td>\n",
       "      <td>1.290</td>\n",
       "      <td>2008.0</td>\n",
       "      <td>Confirmed planets</td>\n",
       "      <td>0.231</td>\n",
       "      <td>326.03</td>\n",
       "      <td>RV</td>\n",
       "      <td>15/09/20</td>\n",
       "      <td>94.800</td>\n",
       "      <td>11 Com b</td>\n",
       "    </tr>\n",
       "    <tr>\n",
       "      <th>1</th>\n",
       "      <td>11.200</td>\n",
       "      <td>11 Ursae Minoris is a star located in the cons...</td>\n",
       "      <td>2452861.04</td>\n",
       "      <td>1.540</td>\n",
       "      <td>2009.0</td>\n",
       "      <td>Confirmed planets</td>\n",
       "      <td>0.080</td>\n",
       "      <td>516.22</td>\n",
       "      <td>RV</td>\n",
       "      <td>15/09/20</td>\n",
       "      <td>117.630</td>\n",
       "      <td>11 UMi b</td>\n",
       "    </tr>\n",
       "    <tr>\n",
       "      <th>2</th>\n",
       "      <td>4.800</td>\n",
       "      <td>14 Andromedae is an evolved star in the conste...</td>\n",
       "      <td>2452861.40</td>\n",
       "      <td>0.830</td>\n",
       "      <td>2008.0</td>\n",
       "      <td>Confirmed planets</td>\n",
       "      <td>0.000</td>\n",
       "      <td>185.84</td>\n",
       "      <td>RV</td>\n",
       "      <td>15/09/20</td>\n",
       "      <td>0.000</td>\n",
       "      <td>14 And b</td>\n",
       "    </tr>\n",
       "    <tr>\n",
       "      <th>3</th>\n",
       "      <td>4.975</td>\n",
       "      <td>The star 14 Herculis is only 59 light years aw...</td>\n",
       "      <td>NaN</td>\n",
       "      <td>2.864</td>\n",
       "      <td>2002.0</td>\n",
       "      <td>Confirmed planets</td>\n",
       "      <td>0.359</td>\n",
       "      <td>1766.00</td>\n",
       "      <td>RV</td>\n",
       "      <td>15/09/21</td>\n",
       "      <td>22.230</td>\n",
       "      <td>14 Her b</td>\n",
       "    </tr>\n",
       "    <tr>\n",
       "      <th>4</th>\n",
       "      <td>7.679</td>\n",
       "      <td>14 Her c is the second companion in the system...</td>\n",
       "      <td>NaN</td>\n",
       "      <td>9.037</td>\n",
       "      <td>2006.0</td>\n",
       "      <td>Controversial</td>\n",
       "      <td>0.184</td>\n",
       "      <td>9886.00</td>\n",
       "      <td>RV</td>\n",
       "      <td>15/09/21</td>\n",
       "      <td>189.076</td>\n",
       "      <td>14 Her c</td>\n",
       "    </tr>\n",
       "  </tbody>\n",
       "</table>\n",
       "</div>"
      ],
      "text/plain": [
       "     mass                                        description  periastrontime  \\\n",
       "0  19.400  11 Com b is a brown dwarf-mass companion to th...      2452899.60   \n",
       "1  11.200  11 Ursae Minoris is a star located in the cons...      2452861.04   \n",
       "2   4.800  14 Andromedae is an evolved star in the conste...      2452861.40   \n",
       "3   4.975  The star 14 Herculis is only 59 light years aw...             NaN   \n",
       "4   7.679  14 Her c is the second companion in the system...             NaN   \n",
       "\n",
       "   semimajoraxis  discoveryyear               list  eccentricity   period  \\\n",
       "0          1.290         2008.0  Confirmed planets         0.231   326.03   \n",
       "1          1.540         2009.0  Confirmed planets         0.080   516.22   \n",
       "2          0.830         2008.0  Confirmed planets         0.000   185.84   \n",
       "3          2.864         2002.0  Confirmed planets         0.359  1766.00   \n",
       "4          9.037         2006.0      Controversial         0.184  9886.00   \n",
       "\n",
       "  discoverymethod lastupdate  periastron      name  \n",
       "0              RV   15/09/20      94.800  11 Com b  \n",
       "1              RV   15/09/20     117.630  11 UMi b  \n",
       "2              RV   15/09/20       0.000  14 And b  \n",
       "3              RV   15/09/21      22.230  14 Her b  \n",
       "4              RV   15/09/21     189.076  14 Her c  "
      ]
     },
     "execution_count": 65,
     "metadata": {},
     "output_type": "execute_result"
    }
   ],
   "source": [
    "import pandas as pd\n",
    "import numpy as np\n",
    "\n",
    "file = 'data/planets.csv'\n",
    "planets = pd.read_csv(file)\n",
    "planets.head()"
   ]
  },
  {
   "cell_type": "code",
   "execution_count": 66,
   "id": "c9a816c6",
   "metadata": {},
   "outputs": [
    {
     "data": {
      "text/plain": [
       "Index(['mass', 'description', 'periastrontime', 'semimajoraxis',\n",
       "       'discoveryyear', 'list', 'eccentricity', 'period', 'discoverymethod',\n",
       "       'lastupdate', 'periastron', 'name'],\n",
       "      dtype='object')"
      ]
     },
     "execution_count": 66,
     "metadata": {},
     "output_type": "execute_result"
    }
   ],
   "source": [
    "planets.columns"
   ]
  },
  {
   "cell_type": "code",
   "execution_count": 67,
   "id": "8b274222",
   "metadata": {},
   "outputs": [
    {
     "data": {
      "text/html": [
       "<div>\n",
       "<style scoped>\n",
       "    .dataframe tbody tr th:only-of-type {\n",
       "        vertical-align: middle;\n",
       "    }\n",
       "\n",
       "    .dataframe tbody tr th {\n",
       "        vertical-align: top;\n",
       "    }\n",
       "\n",
       "    .dataframe thead th {\n",
       "        text-align: right;\n",
       "    }\n",
       "</style>\n",
       "<table border=\"1\" class=\"dataframe\">\n",
       "  <thead>\n",
       "    <tr style=\"text-align: right;\">\n",
       "      <th></th>\n",
       "      <th>semimajoraxis</th>\n",
       "      <th>period</th>\n",
       "      <th>mass</th>\n",
       "      <th>eccentricity</th>\n",
       "    </tr>\n",
       "  </thead>\n",
       "  <tbody>\n",
       "    <tr>\n",
       "      <th>0</th>\n",
       "      <td>1.290</td>\n",
       "      <td>326.03</td>\n",
       "      <td>19.400</td>\n",
       "      <td>0.231</td>\n",
       "    </tr>\n",
       "    <tr>\n",
       "      <th>1</th>\n",
       "      <td>1.540</td>\n",
       "      <td>516.22</td>\n",
       "      <td>11.200</td>\n",
       "      <td>0.080</td>\n",
       "    </tr>\n",
       "    <tr>\n",
       "      <th>2</th>\n",
       "      <td>0.830</td>\n",
       "      <td>185.84</td>\n",
       "      <td>4.800</td>\n",
       "      <td>0.000</td>\n",
       "    </tr>\n",
       "    <tr>\n",
       "      <th>3</th>\n",
       "      <td>2.864</td>\n",
       "      <td>1766.00</td>\n",
       "      <td>4.975</td>\n",
       "      <td>0.359</td>\n",
       "    </tr>\n",
       "    <tr>\n",
       "      <th>4</th>\n",
       "      <td>9.037</td>\n",
       "      <td>9886.00</td>\n",
       "      <td>7.679</td>\n",
       "      <td>0.184</td>\n",
       "    </tr>\n",
       "  </tbody>\n",
       "</table>\n",
       "</div>"
      ],
      "text/plain": [
       "   semimajoraxis   period    mass  eccentricity\n",
       "0          1.290   326.03  19.400         0.231\n",
       "1          1.540   516.22  11.200         0.080\n",
       "2          0.830   185.84   4.800         0.000\n",
       "3          2.864  1766.00   4.975         0.359\n",
       "4          9.037  9886.00   7.679         0.184"
      ]
     },
     "execution_count": 67,
     "metadata": {},
     "output_type": "execute_result"
    }
   ],
   "source": [
    "# изолируем столбцы, которые мы будем использовать для прогнозирования\n",
    "data = planets[[ 'semimajoraxis','period', 'mass', 'eccentricity']].dropna()\n",
    "data.head()"
   ]
  },
  {
   "cell_type": "code",
   "execution_count": 68,
   "id": "cd0a1f4e",
   "metadata": {},
   "outputs": [
    {
     "data": {
      "text/plain": [
       "((1222, 3), (1222,))"
      ]
     },
     "execution_count": 68,
     "metadata": {},
     "output_type": "execute_result"
    }
   ],
   "source": [
    "X = data[[ 'semimajoraxis', 'mass', 'eccentricity']]\n",
    "y = data['period']\n",
    "X.shape, y.shape"
   ]
  },
  {
   "cell_type": "code",
   "execution_count": 69,
   "id": "aa73f05e",
   "metadata": {},
   "outputs": [
    {
     "data": {
      "text/plain": [
       "((855, 3), (367, 3), (855,), (367,))"
      ]
     },
     "execution_count": 69,
     "metadata": {},
     "output_type": "execute_result"
    }
   ],
   "source": [
    "# разделим выборку на обучающую и тестовую\n",
    "from sklearn.model_selection import train_test_split\n",
    "\n",
    "X_train, X_test, y_train, y_test = train_test_split(X, y, test_size=0.3, random_state=0)\n",
    "X_train.shape, X_test.shape, y_train.shape, y_test.shape"
   ]
  },
  {
   "cell_type": "code",
   "execution_count": 71,
   "id": "0d9c10e9",
   "metadata": {},
   "outputs": [
    {
     "data": {
      "text/html": [
       "<div>\n",
       "<style scoped>\n",
       "    .dataframe tbody tr th:only-of-type {\n",
       "        vertical-align: middle;\n",
       "    }\n",
       "\n",
       "    .dataframe tbody tr th {\n",
       "        vertical-align: top;\n",
       "    }\n",
       "\n",
       "    .dataframe thead th {\n",
       "        text-align: right;\n",
       "    }\n",
       "</style>\n",
       "<table border=\"1\" class=\"dataframe\">\n",
       "  <thead>\n",
       "    <tr style=\"text-align: right;\">\n",
       "      <th></th>\n",
       "      <th>semimajoraxis</th>\n",
       "      <th>mass</th>\n",
       "      <th>eccentricity</th>\n",
       "    </tr>\n",
       "  </thead>\n",
       "  <tbody>\n",
       "    <tr>\n",
       "      <th>3982</th>\n",
       "      <td>0.04990</td>\n",
       "      <td>0.276000</td>\n",
       "      <td>0.000</td>\n",
       "    </tr>\n",
       "    <tr>\n",
       "      <th>306</th>\n",
       "      <td>0.21300</td>\n",
       "      <td>0.008493</td>\n",
       "      <td>0.020</td>\n",
       "    </tr>\n",
       "    <tr>\n",
       "      <th>654</th>\n",
       "      <td>2.42000</td>\n",
       "      <td>2.290000</td>\n",
       "      <td>0.120</td>\n",
       "    </tr>\n",
       "    <tr>\n",
       "      <th>4090</th>\n",
       "      <td>0.04421</td>\n",
       "      <td>0.709000</td>\n",
       "      <td>0.038</td>\n",
       "    </tr>\n",
       "    <tr>\n",
       "      <th>630</th>\n",
       "      <td>0.49500</td>\n",
       "      <td>9.710000</td>\n",
       "      <td>0.708</td>\n",
       "    </tr>\n",
       "  </tbody>\n",
       "</table>\n",
       "</div>"
      ],
      "text/plain": [
       "      semimajoraxis      mass  eccentricity\n",
       "3982        0.04990  0.276000         0.000\n",
       "306         0.21300  0.008493         0.020\n",
       "654         2.42000  2.290000         0.120\n",
       "4090        0.04421  0.709000         0.038\n",
       "630         0.49500  9.710000         0.708"
      ]
     },
     "execution_count": 71,
     "metadata": {},
     "output_type": "execute_result"
    }
   ],
   "source": [
    "X_train.head()"
   ]
  },
  {
   "cell_type": "code",
   "execution_count": 72,
   "id": "a1925cf2",
   "metadata": {},
   "outputs": [],
   "source": [
    "# создадим и обучим модель\n",
    "from sklearn.linear_model import LinearRegression\n",
    "lm = LinearRegression().fit(X_train, y_train)"
   ]
  },
  {
   "cell_type": "markdown",
   "id": "1243b8d5",
   "metadata": {},
   "source": [
    "##### Смотрим корреляцию признаков\n",
    "+ если у нас более одного регрессора - аккуратно, отслеживаем мультиколлинеарность\n",
    "\n",
    "В нашем случае нет высокой корреляции между признаками"
   ]
  },
  {
   "cell_type": "code",
   "execution_count": 73,
   "id": "4ed15fc6",
   "metadata": {},
   "outputs": [
    {
     "data": {
      "text/html": [
       "<div>\n",
       "<style scoped>\n",
       "    .dataframe tbody tr th:only-of-type {\n",
       "        vertical-align: middle;\n",
       "    }\n",
       "\n",
       "    .dataframe tbody tr th {\n",
       "        vertical-align: top;\n",
       "    }\n",
       "\n",
       "    .dataframe thead th {\n",
       "        text-align: right;\n",
       "    }\n",
       "</style>\n",
       "<table border=\"1\" class=\"dataframe\">\n",
       "  <thead>\n",
       "    <tr style=\"text-align: right;\">\n",
       "      <th></th>\n",
       "      <th>semimajoraxis</th>\n",
       "      <th>mass</th>\n",
       "      <th>eccentricity</th>\n",
       "    </tr>\n",
       "  </thead>\n",
       "  <tbody>\n",
       "    <tr>\n",
       "      <th>semimajoraxis</th>\n",
       "      <td>1.000000</td>\n",
       "      <td>0.082346</td>\n",
       "      <td>0.137610</td>\n",
       "    </tr>\n",
       "    <tr>\n",
       "      <th>mass</th>\n",
       "      <td>0.082346</td>\n",
       "      <td>1.000000</td>\n",
       "      <td>0.221779</td>\n",
       "    </tr>\n",
       "    <tr>\n",
       "      <th>eccentricity</th>\n",
       "      <td>0.137610</td>\n",
       "      <td>0.221779</td>\n",
       "      <td>1.000000</td>\n",
       "    </tr>\n",
       "  </tbody>\n",
       "</table>\n",
       "</div>"
      ],
      "text/plain": [
       "               semimajoraxis      mass  eccentricity\n",
       "semimajoraxis       1.000000  0.082346      0.137610\n",
       "mass                0.082346  1.000000      0.221779\n",
       "eccentricity        0.137610  0.221779      1.000000"
      ]
     },
     "execution_count": 73,
     "metadata": {},
     "output_type": "execute_result"
    }
   ],
   "source": [
    "# посмотрим на корреляцию регрессоров\n",
    "X.corr()"
   ]
  },
  {
   "cell_type": "code",
   "execution_count": 74,
   "id": "e8a6562e",
   "metadata": {},
   "outputs": [
    {
     "data": {
      "image/png": "[encoded data removed]",
      "text/plain": [
       "<Figure size 432x432 with 2 Axes>"
      ]
     },
     "metadata": {
      "needs_background": "light"
     },
     "output_type": "display_data"
    }
   ],
   "source": [
    "# изобразим корреляцию на графике\n",
    "import seaborn as sns\n",
    "import matplotlib.pyplot as plt\n",
    "fig = plt.figure(figsize=(6,6))\n",
    "sns.heatmap(X.corr(), center=0, vmin=-1, vmax=1, square=True, annot=True, cbar_kws={'shrink': 0.8});"
   ]
  },
  {
   "cell_type": "markdown",
   "id": "cb9aba03",
   "metadata": {},
   "source": [
    "##### Получаем коэффициенты модели\n",
    "Получаем такую модель:\n",
    "period = -630 + 1908 х semimajoraxis - 91 х mass - 3254 x eccentricity"
   ]
  },
  {
   "cell_type": "code",
   "execution_count": 75,
   "id": "64b3c505",
   "metadata": {},
   "outputs": [
    {
     "data": {
      "text/plain": [
       "-630.7134935592405"
      ]
     },
     "execution_count": 75,
     "metadata": {},
     "output_type": "execute_result"
    }
   ],
   "source": [
    "# получим intercept \n",
    "lm.intercept_"
   ]
  },
  {
   "cell_type": "code",
   "execution_count": 76,
   "id": "1de06640",
   "metadata": {},
   "outputs": [
    {
     "data": {
      "text/plain": [
       "[('semimajoraxis', 1908.7729057935683),\n",
       " ('mass', -91.01631524464221),\n",
       " ('eccentricity', -3254.6278099986944)]"
      ]
     },
     "execution_count": 76,
     "metadata": {},
     "output_type": "execute_result"
    }
   ],
   "source": [
    "# получим коэффициенты модели\n",
    "[(col, coef) for col, coef in zip(X_train.columns, lm.coef_)]"
   ]
  },
  {
   "cell_type": "markdown",
   "id": "b57323c6",
   "metadata": {},
   "source": [
    "##### Making predictions"
   ]
  },
  {
   "cell_type": "code",
   "execution_count": 77,
   "id": "82e2a449",
   "metadata": {},
   "outputs": [
    {
     "data": {
      "text/plain": [
       "array([  -634.20924847,   -681.99391859, -25235.42548686,   -800.08424397,\n",
       "         -663.32938698])"
      ]
     },
     "execution_count": 77,
     "metadata": {},
     "output_type": "execute_result"
    }
   ],
   "source": [
    "preds = lm.predict(X_test)\n",
    "preds[:5]"
   ]
  },
  {
   "cell_type": "code",
   "execution_count": 78,
   "id": "e9a3efda",
   "metadata": {},
   "outputs": [
    {
     "data": {
      "image/png": "[encoded data removed]",
      "text/plain": [
       "<Figure size 576x360 with 1 Axes>"
      ]
     },
     "metadata": {
      "needs_background": "light"
     },
     "output_type": "display_data"
    }
   ],
   "source": [
    "# нарисуем actual и predicted values\n",
    "fig, axes = plt.subplots(1, 1, figsize=(8,5))\n",
    "\n",
    "axes.plot(X_test['semimajoraxis'], y_test, 'ob',\n",
    "         label = 'actuals', alpha=0.5)\n",
    "\n",
    "axes.plot(X_test['semimajoraxis'], preds, 'or',\n",
    "         label = 'predicted', alpha=0.5)\n",
    "\n",
    "axes.set(xlabel='semimajoraxis', ylabel = 'period')\n",
    "axes.legend()\n",
    "axes.set_title('Linear Regression Results')\n",
    "plt.show()"
   ]
  },
  {
   "cell_type": "code",
   "execution_count": 79,
   "id": "e8298397",
   "metadata": {},
   "outputs": [
    {
     "data": {
      "text/plain": [
       "0.9640822893709363"
      ]
     },
     "execution_count": 79,
     "metadata": {},
     "output_type": "execute_result"
    }
   ],
   "source": [
    "# корреляция фактических и прогнозных значений\n",
    "np.corrcoef(y_test, preds)[0][1]"
   ]
  },
  {
   "cell_type": "markdown",
   "id": "fc0027a2",
   "metadata": {},
   "source": [
    "###  Evaluating regression results\n",
    "+ how much of the variance in the data our model is able to capture\n",
    "+ how accurate the predictions are\n",
    "\n",
    "Для этого мы:\n",
    "+ анализируем остатки (centered around zero and homoskedastic)\n",
    "+ считаем метрики: $R^2$, $Adjusted R^2$, explained variance, $MAE$, $RMSE$ \n",
    "\n",
    "#### Analyzing residuals\n",
    "+ we should visualize our residuals (discrepancies between the actual values and the model's predictions)\n",
    "+ остатки должны быть  centered around zero and homoskedastic (similar variance throughout).\n",
    "\n",
    "Мы можем использовать \n",
    "+ kernel density estimate to assess whether the residuals are centered around zero\n",
    "+ scatter plot to see if they are homoskedastic\n",
    "\n",
    "Напишем функцию для отрисовки остатков\n"
   ]
  },
  {
   "cell_type": "code",
   "execution_count": 80,
   "id": "bc8020a8",
   "metadata": {},
   "outputs": [],
   "source": [
    "def plot_residuals(y_test, preds):\n",
    "    \"\"\"\n",
    "    Отрисовка остатков для оценки регрессии\n",
    "    \n",
    "    Параметры:\n",
    "        - y_test: The true values of y\n",
    "        - preds: The predicted values of y\n",
    "        \n",
    "    Returns:\n",
    "        Subplots of residual scatter plot and residual KDE\n",
    "    \"\"\"\n",
    "    residuals = y_test - preds\n",
    "    \n",
    "    fig, axes = plt.subplots(1, 2, figsize=(15, 3))\n",
    "    axes[0].scatter(np.arange(residuals.shape[0]), residuals)\n",
    "    axes[0].set(xlabel='Observation', ylabel='Residual')\n",
    "    \n",
    "    residuals.plot(kind='kde', ax=axes[1])\n",
    "    axes[1].set_xlabel('Residual')\n",
    "    \n",
    "    plt.suptitle('Исследование остатков')\n",
    "    plt.show()\n",
    "    #return axes"
   ]
  },
  {
   "cell_type": "code",
   "execution_count": 81,
   "id": "9b6e0059",
   "metadata": {},
   "outputs": [
    {
     "data": {
      "image/png": "[encoded data removed]",
      "text/plain": [
       "<Figure size 1080x216 with 2 Axes>"
      ]
     },
     "metadata": {
      "needs_background": "light"
     },
     "output_type": "display_data"
    }
   ],
   "source": [
    "plot_residuals(y_test, preds)"
   ]
  },
  {
   "cell_type": "markdown",
   "id": "197125ea",
   "metadata": {},
   "source": [
    "**Tip**\n",
    "\n",
    "Если мы увидим паттерны в отстатках:\n",
    "+ можно попробовать применить полиномиальную регрессию\n",
    "+ log transformations данных"
   ]
  },
  {
   "cell_type": "markdown",
   "id": "31d962bd",
   "metadata": {},
   "source": [
    "####  Метрики\n",
    "\n",
    "$R^2$ - coefficient of determination, который количественно определяет **долю дисперсии зависимой переменной**, которую мы можем предсказать на основе наших независимых переменных.\n",
    "\n",
    "$$\n",
    "R^2 = 1 = \\frac{SS_{residual}}{SS_{total}} = 1 - \\frac{\\sum_i(y_i - \\hat y_i)^2}{\\sum_i(y_i - \\bar y_i)^2}\n",
    "$$\n",
    "\n",
    "Для расчета используем \n",
    "+ метод `score()` \n",
    "+ метод `r2_score()`"
   ]
  },
  {
   "cell_type": "code",
   "execution_count": 82,
   "id": "2aece821",
   "metadata": {},
   "outputs": [
    {
     "data": {
      "text/plain": [
       "0.9198481803799846"
      ]
     },
     "execution_count": 82,
     "metadata": {},
     "output_type": "execute_result"
    }
   ],
   "source": [
    "lm.score(X_test, y_test)"
   ]
  },
  {
   "cell_type": "code",
   "execution_count": 83,
   "id": "79ea14f7",
   "metadata": {},
   "outputs": [
    {
     "data": {
      "text/plain": [
       "0.9198481803799846"
      ]
     },
     "execution_count": 83,
     "metadata": {},
     "output_type": "execute_result"
    }
   ],
   "source": [
    "from sklearn.metrics import r2_score\n",
    "r2_score(y_test, preds)"
   ]
  },
  {
   "cell_type": "markdown",
   "id": "4819139a",
   "metadata": {},
   "source": [
    "Проблема $R^2$:\n",
    "+ если мы будем добавлять метрики и усложнять модель\n",
    "+ $R^2$ будет расти\n",
    "\n",
    "Поэтому используем $Adjusted R^2$, который увеличивается лишь в том случае, если новый дополнительный регрессор улучшает модель больше, чем просто случайно\n",
    "\n",
    "$$\n",
    "Adjusted R^2 = 1 - (1-R^2)\\times \\frac{n_{obs} -1}{n_{obs} - n_{regressors}-1}\n",
    "$$\n",
    "\n",
    "В scikit-learn нет такой метрики, поэтому напишем функцию:"
   ]
  },
  {
   "cell_type": "code",
   "execution_count": 84,
   "id": "73755472",
   "metadata": {},
   "outputs": [],
   "source": [
    "def adjusted_r2(model, X, y):\n",
    "    \"\"\"\n",
    "    Расчет adjusted R^2\n",
    "    \n",
    "    Параметры:\n",
    "        - model: Estimator object with a `predict()` method\n",
    "        - X: The values to use for prediction\n",
    "        - y: The true values for scoring\n",
    "        \n",
    "    Returns:\n",
    "        The adjusted R^2 score\n",
    "    \"\"\"\n",
    "    r2 = r2_score(y, model.predict(X))\n",
    "    n_obs, n_regressors = X.shape\n",
    "    adj_r2 = 1 - (1-r2) * (n_obs - n_regressors) / (n_obs - n_regressors - 1)\n",
    "    \n",
    "    return adj_r2    "
   ]
  },
  {
   "cell_type": "code",
   "execution_count": 85,
   "id": "29f43e62",
   "metadata": {},
   "outputs": [
    {
     "data": {
      "text/plain": [
       "0.9196273764691857"
      ]
     },
     "execution_count": 85,
     "metadata": {},
     "output_type": "execute_result"
    }
   ],
   "source": [
    "adjusted_r2(lm, X_test, y_test)"
   ]
  },
  {
   "cell_type": "markdown",
   "id": "63e7bbc5",
   "metadata": {},
   "source": [
    "**Explained variance score**\n",
    "+ percentage of the variance that is explained by our model\n",
    "\n",
    "$$\n",
    "explained \\ variance = 1 - \\frac{var(residuals}{var(actuals} = 1 - \\frac{var(y-\\hat y)}{var(y)}\n",
    "$$"
   ]
  },
  {
   "cell_type": "code",
   "execution_count": 86,
   "id": "764f5ce0",
   "metadata": {},
   "outputs": [
    {
     "data": {
      "text/plain": [
       "0.9204137269049516"
      ]
     },
     "execution_count": 86,
     "metadata": {},
     "output_type": "execute_result"
    }
   ],
   "source": [
    "from sklearn.metrics import explained_variance_score\n",
    "explained_variance_score(y_test, preds)"
   ]
  },
  {
   "cell_type": "markdown",
   "id": "fce29a82",
   "metadata": {},
   "source": [
    "**Mean absolute error (MAE)**\n",
    "+ tells us the average error our model made in either direction\n",
    "+ Values range from 0 to ∞ (infinity), with smaller values being better\n",
    "\n",
    "$$\n",
    "MAE = \\frac{\\sum_i|y_i - \\hat y_i|}{n}\n",
    "$$"
   ]
  },
  {
   "cell_type": "code",
   "execution_count": 87,
   "id": "3135e90c",
   "metadata": {},
   "outputs": [
    {
     "data": {
      "text/plain": [
       "1359.9415009100032"
      ]
     },
     "execution_count": 87,
     "metadata": {},
     "output_type": "execute_result"
    }
   ],
   "source": [
    "from sklearn.metrics import mean_absolute_error\n",
    "mean_absolute_error(y_test, preds)"
   ]
  },
  {
   "cell_type": "markdown",
   "id": "b992243d",
   "metadata": {},
   "source": [
    "**Root mean squared error (RMSE)**\n",
    "$$\n",
    "RMSE = \\sqrt \\frac{\\sum_i(y_i - \\hat y_i)^2}{n}\n",
    "$$"
   ]
  },
  {
   "cell_type": "code",
   "execution_count": 88,
   "id": "ae58e047",
   "metadata": {},
   "outputs": [
    {
     "data": {
      "text/plain": [
       "3021.4999119766558"
      ]
     },
     "execution_count": 88,
     "metadata": {},
     "output_type": "execute_result"
    }
   ],
   "source": [
    "from sklearn.metrics import mean_squared_error\n",
    "np.sqrt(mean_squared_error(y_test, preds))"
   ]
  },
  {
   "cell_type": "markdown",
   "id": "7edf47ad",
   "metadata": {},
   "source": [
    "**median absolute error**\n",
    "+ the median of the residuals\n",
    "+ применять если у нас  few outliers in our residuals и we want a more accurate description of the bulk of the errors\n"
   ]
  },
  {
   "cell_type": "code",
   "execution_count": 89,
   "id": "071926e4",
   "metadata": {},
   "outputs": [
    {
     "data": {
      "text/plain": [
       "771.8802517439957"
      ]
     },
     "execution_count": 89,
     "metadata": {},
     "output_type": "execute_result"
    }
   ],
   "source": [
    "from sklearn.metrics import median_absolute_error\n",
    "median_absolute_error(y_test, preds)"
   ]
  },
  {
   "cell_type": "markdown",
   "id": "b7b816e0",
   "metadata": {},
   "source": [
    "### Линейная регрессия со стандартизированными регрессорами"
   ]
  },
  {
   "cell_type": "code",
   "execution_count": 92,
   "id": "2e9883e9",
   "metadata": {},
   "outputs": [],
   "source": [
    "from sklearn.preprocessing import StandardScaler\n",
    "scaler = StandardScaler()\n",
    "\n",
    "# обучаем scaler на тренировочном наборе\n",
    "scaler.fit(X_train)\n",
    "\n",
    "# трансформируем признаками\n",
    "X_train_scaled = scaler.transform(X_train)\n",
    "X_test_scaled = scaler.transform(X_test)"
   ]
  },
  {
   "cell_type": "code",
   "execution_count": 91,
   "id": "727a9a12",
   "metadata": {},
   "outputs": [
    {
     "data": {
      "text/html": [
       "<div>\n",
       "<style scoped>\n",
       "    .dataframe tbody tr th:only-of-type {\n",
       "        vertical-align: middle;\n",
       "    }\n",
       "\n",
       "    .dataframe tbody tr th {\n",
       "        vertical-align: top;\n",
       "    }\n",
       "\n",
       "    .dataframe thead th {\n",
       "        text-align: right;\n",
       "    }\n",
       "</style>\n",
       "<table border=\"1\" class=\"dataframe\">\n",
       "  <thead>\n",
       "    <tr style=\"text-align: right;\">\n",
       "      <th></th>\n",
       "      <th>semimajoraxis</th>\n",
       "      <th>mass</th>\n",
       "      <th>eccentricity</th>\n",
       "    </tr>\n",
       "  </thead>\n",
       "  <tbody>\n",
       "    <tr>\n",
       "      <th>3982</th>\n",
       "      <td>0.04990</td>\n",
       "      <td>0.276000</td>\n",
       "      <td>0.000</td>\n",
       "    </tr>\n",
       "    <tr>\n",
       "      <th>306</th>\n",
       "      <td>0.21300</td>\n",
       "      <td>0.008493</td>\n",
       "      <td>0.020</td>\n",
       "    </tr>\n",
       "    <tr>\n",
       "      <th>654</th>\n",
       "      <td>2.42000</td>\n",
       "      <td>2.290000</td>\n",
       "      <td>0.120</td>\n",
       "    </tr>\n",
       "    <tr>\n",
       "      <th>4090</th>\n",
       "      <td>0.04421</td>\n",
       "      <td>0.709000</td>\n",
       "      <td>0.038</td>\n",
       "    </tr>\n",
       "    <tr>\n",
       "      <th>630</th>\n",
       "      <td>0.49500</td>\n",
       "      <td>9.710000</td>\n",
       "      <td>0.708</td>\n",
       "    </tr>\n",
       "  </tbody>\n",
       "</table>\n",
       "</div>"
      ],
      "text/plain": [
       "      semimajoraxis      mass  eccentricity\n",
       "3982        0.04990  0.276000         0.000\n",
       "306         0.21300  0.008493         0.020\n",
       "654         2.42000  2.290000         0.120\n",
       "4090        0.04421  0.709000         0.038\n",
       "630         0.49500  9.710000         0.708"
      ]
     },
     "execution_count": 91,
     "metadata": {},
     "output_type": "execute_result"
    }
   ],
   "source": [
    "X_train.head()"
   ]
  },
  {
   "cell_type": "code",
   "execution_count": 105,
   "id": "0c1593b4",
   "metadata": {},
   "outputs": [],
   "source": [
    "y_train_scaled = (y_train - y_train.mean()) / y_train.std()\n",
    "y_test_scaled = (y_test - y_train.mean()) / y_train.std()"
   ]
  },
  {
   "cell_type": "code",
   "execution_count": 103,
   "id": "4a54d0ee",
   "metadata": {},
   "outputs": [
    {
     "data": {
      "text/plain": [
       "(1137.6875694915311, 7774.169290468146)"
      ]
     },
     "execution_count": 103,
     "metadata": {},
     "output_type": "execute_result"
    }
   ],
   "source": [
    "y_train.mean(), y_train.std()"
   ]
  },
  {
   "cell_type": "code",
   "execution_count": 107,
   "id": "78ec36e1",
   "metadata": {},
   "outputs": [
    {
     "data": {
      "text/plain": [
       "(-1.1860321863548257e-16, array([ 0.94301567, -0.05950747, -0.07920595]))"
      ]
     },
     "execution_count": 107,
     "metadata": {},
     "output_type": "execute_result"
    }
   ],
   "source": [
    "lm_scaled = LinearRegression().fit(X_train_scaled, y_train_scaled)\n",
    "lm_scaled.intercept_, lm_scaled.coef_"
   ]
  },
  {
   "cell_type": "code",
   "execution_count": 108,
   "id": "6578feac",
   "metadata": {},
   "outputs": [],
   "source": [
    "preds_scaled = lm.predict(X_test_scaled)"
   ]
  },
  {
   "cell_type": "code",
   "execution_count": 114,
   "id": "6576c37e",
   "metadata": {},
   "outputs": [
    {
     "data": {
      "image/png": "[encoded data removed]",
      "text/plain": [
       "<Figure size 576x360 with 1 Axes>"
      ]
     },
     "metadata": {
      "needs_background": "light"
     },
     "output_type": "display_data"
    }
   ],
   "source": [
    "# нарисуем actual и predicted values\n",
    "fig, axes = plt.subplots(1, 1, figsize=(8,5))\n",
    "\n",
    "axes.plot(pd.DataFrame(X_test_scaled).loc[:,0], y_test, 'ob',\n",
    "         label = 'actuals', alpha=0.5)\n",
    "\n",
    "axes.plot(pd.DataFrame(X_test_scaled).loc[:,0], preds, 'or',\n",
    "         label = 'predicted', alpha=0.5)\n",
    "\n",
    "axes.set(xlabel='semimajoraxis', ylabel = 'period')\n",
    "axes.legend()\n",
    "axes.set_title('Linear Regression Results')\n",
    "plt.show()"
   ]
  },
  {
   "cell_type": "code",
   "execution_count": 115,
   "id": "e538849b",
   "metadata": {},
   "outputs": [
    {
     "data": {
      "image/png": "[encoded data removed]",
      "text/plain": [
       "<Figure size 1080x216 with 2 Axes>"
      ]
     },
     "metadata": {
      "needs_background": "light"
     },
     "output_type": "display_data"
    }
   ],
   "source": [
    "plot_residuals(y_test_scaled, preds_scaled)"
   ]
  },
  {
   "cell_type": "code",
   "execution_count": 120,
   "id": "aa5a6f9a",
   "metadata": {},
   "outputs": [
    {
     "data": {
      "text/plain": [
       "2563.2804782340386"
      ]
     },
     "execution_count": 120,
     "metadata": {},
     "output_type": "execute_result"
    }
   ],
   "source": [
    "mean_absolute_error(y_test_scaled, preds_scaled)"
   ]
  },
  {
   "cell_type": "code",
   "execution_count": 118,
   "id": "26dfd0fd",
   "metadata": {},
   "outputs": [
    {
     "data": {
      "text/plain": [
       "0.919848180379985"
      ]
     },
     "execution_count": 118,
     "metadata": {},
     "output_type": "execute_result"
    }
   ],
   "source": [
    "lm_scaled.score(X_test_scaled, y_test_scaled)"
   ]
  },
  {
   "cell_type": "code",
   "execution_count": 121,
   "id": "13b156b3",
   "metadata": {},
   "outputs": [
    {
     "name": "stdout",
     "output_type": "stream",
     "text": [
      "Collecting pandoc\n",
      "  Downloading pandoc-2.3.tar.gz (33 kB)\n",
      "Collecting plumbum\n",
      "  Downloading plumbum-1.8.2-py3-none-any.whl (127 kB)\n",
      "Requirement already satisfied: ply in c:\\programdata\\anaconda3\\lib\\site-packages (from pandoc) (3.11)\n",
      "Requirement already satisfied: pywin32 in c:\\programdata\\anaconda3\\lib\\site-packages (from plumbum->pandoc) (228)\n",
      "Building wheels for collected packages: pandoc\n",
      "  Building wheel for pandoc (setup.py): started\n",
      "  Building wheel for pandoc (setup.py): finished with status 'done'\n",
      "  Created wheel for pandoc: filename=pandoc-2.3-py3-none-any.whl size=33291 sha256=58dcb74a01dd6b173033483df1f0c5f38408ab4eb3064055cf86916cdf20485b\n",
      "  Stored in directory: c:\\users\\a.g. shurakov\\appdata\\local\\pip\\cache\\wheels\\69\\e6\\a1\\1daa96d919c9e09a71473649b717b8da286f3f8d7719d1cfc5\n",
      "Successfully built pandoc\n",
      "Installing collected packages: plumbum, pandoc\n",
      "Successfully installed pandoc-2.3 plumbum-1.8.2\n"
     ]
    }
   ],
   "source": [
    "!pip install pandoc "
   ]
  }
 ],
 "metadata": {
  "kernelspec": {
   "display_name": "Python 3 (ipykernel)",
   "language": "python",
   "name": "python3"
  },
  "language_info": {
   "codemirror_mode": {
    "name": "ipython",
    "version": 3
   },
   "file_extension": ".py",
   "mimetype": "text/x-python",
   "name": "python",
   "nbconvert_exporter": "python",
   "pygments_lexer": "ipython3",
   "version": "3.9.7"
  }
 },
 "nbformat": 4,
 "nbformat_minor": 5
}
